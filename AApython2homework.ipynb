{
 "cells": [
  {
   "cell_type": "markdown",
   "metadata": {},
   "source": [
    "1. Print out your favorite color and write comment about what you are doing above the code."
   ]
  },
  {
   "cell_type": "code",
   "execution_count": 1,
   "metadata": {},
   "outputs": [
    {
     "name": "stdout",
     "output_type": "stream",
     "text": [
      "Enter your favorite colour:\n",
      ">>>>yellow\n"
     ]
    }
   ],
   "source": [
    "prompt= \">>>>\"\n",
    "print(\"Enter your favorite colour:\")\n",
    "fav_color=str(input(prompt))"
   ]
  },
  {
   "cell_type": "markdown",
   "metadata": {},
   "source": [
    "2. Print the sumation of numbers 1 through 10"
   ]
  },
  {
   "cell_type": "code",
   "execution_count": 2,
   "metadata": {},
   "outputs": [
    {
     "name": "stdout",
     "output_type": "stream",
     "text": [
      "11\n"
     ]
    }
   ],
   "source": [
    "numb1=1\n",
    "numb2=10\n",
    "print(numb1+numb2)"
   ]
  },
  {
   "cell_type": "markdown",
   "metadata": {},
   "source": [
    "3. Print what 2 to the 8th power is."
   ]
  },
  {
   "cell_type": "code",
   "execution_count": 3,
   "metadata": {},
   "outputs": [
    {
     "name": "stdout",
     "output_type": "stream",
     "text": [
      "256\n"
     ]
    }
   ],
   "source": [
    "numb3=2\n",
    "exp=8\n",
    "print(numb3**exp)"
   ]
  },
  {
   "cell_type": "markdown",
   "metadata": {},
   "source": [
    "4. Print the remainder of 100 divided by 11. "
   ]
  },
  {
   "cell_type": "code",
   "execution_count": 5,
   "metadata": {},
   "outputs": [
    {
     "name": "stdout",
     "output_type": "stream",
     "text": [
      "1\n"
     ]
    }
   ],
   "source": [
    "numb4=100\n",
    "numb5=11\n",
    "print(numb4%numb5)"
   ]
  },
  {
   "cell_type": "markdown",
   "metadata": {},
   "source": [
    "5. What is the result of adding strings: 20, 8, 77?"
   ]
  },
  {
   "cell_type": "code",
   "execution_count": 10,
   "metadata": {},
   "outputs": [
    {
     "name": "stdout",
     "output_type": "stream",
     "text": [
      "happyhappyhappyhappyhappyhappyhappyhappyhappyhappyhappyhappyhappyhappyhappyhappyhappyhappyhappyhappy\n",
      "lollollollollollollollol\n",
      "aaaaaaaaaaaaaaaaaaaaaaaaaaaaaaaaaaaaaaaaaaaaaaaaaaaaaaaaaaaaaaaaaaaaaaaaaaaaa\n"
     ]
    }
   ],
   "source": [
    "message1=\"happy\"\n",
    "message2=\"lol\"\n",
    "message3=\"a\"\n",
    "print(message1*20)\n",
    "print(message2*8)\n",
    "print(message3*77)"
   ]
  },
  {
   "cell_type": "markdown",
   "metadata": {},
   "source": [
    "6. Print out 100 divided by 5"
   ]
  },
  {
   "cell_type": "code",
   "execution_count": 11,
   "metadata": {},
   "outputs": [
    {
     "name": "stdout",
     "output_type": "stream",
     "text": [
      "20.0\n"
     ]
    }
   ],
   "source": [
    "numb6=100\n",
    "mumb7=5\n",
    "print(numb6/mumb7)"
   ]
  },
  {
   "cell_type": "markdown",
   "metadata": {},
   "source": [
    "7. What is the difference (subtraction) between 10/4 and 10//4?  Print out the result"
   ]
  },
  {
   "cell_type": "code",
   "execution_count": 12,
   "metadata": {},
   "outputs": [
    {
     "name": "stdout",
     "output_type": "stream",
     "text": [
      "0.0\n"
     ]
    }
   ],
   "source": [
    "numb8=10\n",
    "numb9=4\n",
    "print((numb8/numb9)-(numb8/numb9))"
   ]
  },
  {
   "cell_type": "markdown",
   "metadata": {},
   "source": [
    "8. Create a variable called height and store your height value there.\n",
    "Print a sentence describing your height and use the variable in the sentence as well."
   ]
  },
  {
   "cell_type": "code",
   "execution_count": 1,
   "metadata": {},
   "outputs": [
    {
     "name": "stdout",
     "output_type": "stream",
     "text": [
      "Enter your height in inches:\n",
      ">>>>5.2\n"
     ]
    }
   ],
   "source": [
    "prompt=\">>>>\"\n",
    "print(\"Enter your height in inches:\")\n",
    "height=float(input(prompt))"
   ]
  },
  {
   "cell_type": "markdown",
   "metadata": {},
   "source": [
    "9. Print the same information as exercise 8 using a formatted string. "
   ]
  },
  {
   "cell_type": "code",
   "execution_count": 1,
   "metadata": {},
   "outputs": [
    {
     "name": "stdout",
     "output_type": "stream",
     "text": [
      "Enter your height in inches:\n",
      ">>>>2.1\n",
      "Your height is:\t\t2.1\tinches\n"
     ]
    }
   ],
   "source": [
    "prompt=\">>>>\"\n",
    "print(\"Enter your height in inches:\")\n",
    "height=float(input(prompt))\n",
    "end= \"inches\"\n",
    "print(f\"Your height is:\\t\\t{height:}\\t{end}\")             "
   ]
  },
  {
   "cell_type": "markdown",
   "metadata": {},
   "source": [
    "10. Use two different (single and double) quotes in a string to print out a sentence"
   ]
  },
  {
   "cell_type": "code",
   "execution_count": 32,
   "metadata": {},
   "outputs": [
    {
     "name": "stdout",
     "output_type": "stream",
     "text": [
      "Every day do you best, You can do it!\n"
     ]
    }
   ],
   "source": [
    "print(\"Every day do you best,\",'You can do it!')"
   ]
  },
  {
   "cell_type": "markdown",
   "metadata": {},
   "source": [
    "11. Print out Hello World! 7 times each on a new line using only one line of code."
   ]
  },
  {
   "cell_type": "code",
   "execution_count": 71,
   "metadata": {},
   "outputs": [
    {
     "name": "stdout",
     "output_type": "stream",
     "text": [
      "Hello World!\n",
      "Hello World!\n",
      "Hello World!\n",
      "Hello World!\n",
      "Hello World!\n",
      "Hello World!\n",
      "Hello World!\n",
      "\n"
     ]
    }
   ],
   "source": [
    "sent_1=\"Hello World!\"\n",
    "print(f\"{sent1}\\n{sent1}\\n{sent1}\\n{sent1}\\n{sent1}\\n{sent1}\\n{sent1}\\n\")"
   ]
  },
  {
   "cell_type": "markdown",
   "metadata": {},
   "source": [
    "12. Write a code to get two integers from a user. Then print out their summation, subtraction, multiplication, and division."
   ]
  },
  {
   "cell_type": "code",
   "execution_count": 5,
   "metadata": {},
   "outputs": [
    {
     "name": "stdout",
     "output_type": "stream",
     "text": [
      "Enter a first number: \n",
      ">>>>1\n",
      "Enter a sencond number: \n",
      ">>>>2\n",
      "Sum is:\t\t\t3\n",
      "Subtraction is:\t\t-1\n",
      "Multipplication is:\t2\n",
      "Division is:\t\t0.5\n",
      "\n"
     ]
    }
   ],
   "source": [
    "prompt=\">>>>\"\n",
    "print(\"Enter a first number: \")\n",
    "num1=int(input(prompt))\n",
    "print(\"Enter a sencond number: \")\n",
    "num2=int(input(prompt))\n",
    "print(f\"Sum is:\\t\\t\\t{num1+num2}\\nSubtraction is:\\t\\t{num1-num2}\\nMultipplication is:\\t{num1*num2}\\nDivision is:\\t\\t{num1/num2}\\n\")"
   ]
  },
  {
   "cell_type": "code",
   "execution_count": null,
   "metadata": {},
   "outputs": [],
   "source": []
  },
  {
   "cell_type": "markdown",
   "metadata": {},
   "source": [
    "13. You and your collegue have been tasked to write a code to get 5 numbers from a user and then print out their summation and average in a formatted string.  Your partner wrote codes below.  Now it is up to you to fix all errors."
   ]
  },
  {
   "cell_type": "code",
   "execution_count": 5,
   "metadata": {},
   "outputs": [
    {
     "name": "stdout",
     "output_type": "stream",
     "text": [
      "Enter a first number: \n",
      ">>>>2\n",
      "Enter a sencond number: \n",
      ">>>>4\n",
      "Enter a third number: \n",
      ">>>>6\n",
      "Enter a fouth number: \n",
      ">>>>7\n",
      "Enter a fifth number: \n",
      ">>>>3\n",
      "The Sum_total is  :\t22\n",
      "The Average is  :\t4.4\n"
     ]
    }
   ],
   "source": [
    "prompt=\">>>>\"\n",
    "print(\"Enter a first number: \")\n",
    "num1=int(input(prompt))\n",
    "print(\"Enter a sencond number: \")\n",
    "num2=int(input(prompt))\n",
    "print(\"Enter a third number: \")\n",
    "num3=int(input(prompt))\n",
    "print(\"Enter a fouth number: \")\n",
    "num4=int(input(prompt))\n",
    "print(\"Enter a fifth number: \")\n",
    "num5=int(input(prompt))\n",
    "print(f\"The Sum_total is  :\\t{num1+num2+num3+num4+num5}\")\n",
    "print(f\"The Average is  :\\t{(num1+num2+num3+num4+num5)/5}\")"
   ]
  },
  {
   "cell_type": "markdown",
   "metadata": {},
   "source": []
  },
  {
   "cell_type": "markdown",
   "metadata": {},
   "source": [
    "14. You and your partner have been assigned to a project to write a program to calculate the amount of runoff rain on a roof from any given rainfall.  \n",
    "\n",
    "You and your partner have figured out that to calculate the runoff from any given rainfall. \n",
    "\n",
    "You need to take the dimensions of the footprint of the roof and <b>convert them to inches</b> (ex - a 50' x 20' roof is 600\" x 240\"). The dimensions should be user submitted. \n",
    "\n",
    "Then, multiply the roof dimensions by the number of inches of rainfall. As an example, 600\" x 240\" x 1\" = 144,000 cubic inches of water for an inch of rainfall. Finally, divide that result by 231 to get the number of gallons (because 1 gallon = 231 cubic inches; 144,000/231 = 623.38).\n",
    "\n",
    "Your partner started coding before getting sick and it is up to you to finish the program."
   ]
  },
  {
   "cell_type": "code",
   "execution_count": 13,
   "metadata": {},
   "outputs": [
    {
     "name": "stdout",
     "output_type": "stream",
     "text": [
      "Roof measures:\n",
      "\n",
      "Enter width feets.:\n",
      ">>>>23\n",
      "Enter lenght feets.:\n",
      ">>>>23\n",
      "Total area:\t529.00\t\tsquare feet\n",
      "Total area:\t76176.00\tsquare inches\n",
      "Enter Rainfall:\n",
      ">>>>3\n",
      "Vol Rainfall:\t228,528.00\tcubic inches\n"
     ]
    }
   ],
   "source": [
    "print(\"Roof measures:\\n\")\n",
    "prompt=\">>>>\"\n",
    "print(\"Enter width feets.:\")\n",
    "num1 = float(input(prompt))\n",
    "print(\"Enter lenght feets.:\")\n",
    "num2 = float(input(prompt))\n",
    "area = num1 * num2\n",
    "end1= \"square feet\"\n",
    "print(f\"Total area:\\t{area:.2f}\\t\\t{end1}\")\n",
    "final_area = area * 144 \n",
    "end2= \"square inches\"\n",
    "print(f\"Total area:\\t{final_area:.2f}\\t{end2}\")\n",
    "print(\"Enter Rainfall:\")\n",
    "rain_fall = float(input(prompt))\n",
    "vol_rf= final_area * rain_fall\n",
    "end3 = \"cubic inches\"\n",
    "print(f\"Vol Rainfall:\\t{vol_rf:,.2f}\\t{end3}\")"
   ]
  },
  {
   "cell_type": "code",
   "execution_count": null,
   "metadata": {},
   "outputs": [],
   "source": []
  },
  {
   "cell_type": "markdown",
   "metadata": {},
   "source": [
    "15. A program is required to get a customer’s name, a purchase amount and a discount rate (in %). The program must compute the discount amount, sales tax (6%) and the total amount due. Using one print statement, print the customer’s name, purchase amount, discount amount, sales tax and total amount due in friendly format."
   ]
  },
  {
   "cell_type": "code",
   "execution_count": 1,
   "metadata": {},
   "outputs": [
    {
     "name": "stdout",
     "output_type": "stream",
     "text": [
      "what is your name: \n",
      "carito\n",
      "Price: \t\t$90.10\n",
      "Quantity: \t10\n",
      "------------------------------\n",
      "Sales Amount:\t $901.00\n",
      "Sales Tax:\t $58.57\n",
      "------------------------------\n",
      "Sub Total :\t $959.57\n",
      "==============================\n",
      "Total discount:\t $47.98\n",
      "Final Total:\t $911.59\n"
     ]
    }
   ],
   "source": [
    "print(\"what is your name: \")\n",
    "first_name=input()\n",
    "price = 90.10\n",
    "qtx = 10\n",
    "tax = 0.065\n",
    "disc = 0.05\n",
    "sales_amou = price * qtx\n",
    "sales_tax = sales_amou * tax\n",
    "sub_total = sales_amou + sales_tax\n",
    "total_disc = sub_total * disc\n",
    "total_final = sub_total - total_disc\n",
    "\n",
    "print(f\"Price: \\t\\t${price:.2f}\")\n",
    "print(f\"Quantity: \\t{qtx}\")\n",
    "print(\"-\"*30)\n",
    "print(f\"Sales Amount:\\t ${sales_amou:.2f}\")\n",
    "print(f\"Sales Tax:\\t ${sales_tax:.2f}\")\n",
    "print(\"-\"*30)\n",
    "print(f\"Sub Total :\\t ${sub_total:.2f}\")\n",
    "print(\"=\"*30)\n",
    "print(f\"Total discount:\\t ${total_disc:.2f}\")\n",
    "print(f\"Final Total:\\t ${total_final:.2f}\")"
   ]
  },
  {
   "cell_type": "code",
   "execution_count": null,
   "metadata": {},
   "outputs": [],
   "source": []
  },
  {
   "cell_type": "code",
   "execution_count": null,
   "metadata": {},
   "outputs": [],
   "source": []
  }
 ],
 "metadata": {
  "kernelspec": {
   "display_name": "Python 3 (ipykernel)",
   "language": "python",
   "name": "python3"
  },
  "language_info": {
   "codemirror_mode": {
    "name": "ipython",
    "version": 3
   },
   "file_extension": ".py",
   "mimetype": "text/x-python",
   "name": "python",
   "nbconvert_exporter": "python",
   "pygments_lexer": "ipython3",
   "version": "3.9.12"
  }
 },
 "nbformat": 4,
 "nbformat_minor": 4
}
